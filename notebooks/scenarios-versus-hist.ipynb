{
 "cells": [
  {
   "cell_type": "code",
   "execution_count": null,
   "id": "0",
   "metadata": {},
   "outputs": [],
   "source": [
    "import os\n",
    "\n",
    "import numpy as np\n",
    "import pandas as pd\n",
    "import matplotlib.pyplot as pl\n",
    "from scipy.interpolate import interp1d"
   ]
  },
  {
   "cell_type": "code",
   "execution_count": null,
   "id": "1",
   "metadata": {},
   "outputs": [],
   "source": [
    "data = pd.read_csv('../data/scenarios.csv')\n",
    "data"
   ]
  },
  {
   "cell_type": "code",
   "execution_count": null,
   "id": "2",
   "metadata": {},
   "outputs": [],
   "source": [
    "years = data.columns[5:].astype(int)"
   ]
  },
  {
   "cell_type": "code",
   "execution_count": null,
   "id": "3",
   "metadata": {},
   "outputs": [],
   "source": [
    "for irow, row in enumerate(data.values[:,5:]):\n",
    "    data.iloc[irow, 5:] = pd.Series(list(row)).interpolate().tolist()"
   ]
  },
  {
   "cell_type": "code",
   "execution_count": null,
   "id": "4",
   "metadata": {},
   "outputs": [],
   "source": [
    "co2 = pd.read_csv('../data/gcp_2023.csv', index_col=0)\n",
    "co2.sum(axis=1)"
   ]
  },
  {
   "cell_type": "code",
   "execution_count": null,
   "id": "5",
   "metadata": {},
   "outputs": [],
   "source": [
    "pl.plot(years, data.loc[0,'1985':].T, label='IPCC90 Scenario A');\n",
    "pl.plot(years, data.loc[3,'1985':].T, label='IPCC90 Scenario D');\n",
    "pl.plot(years, data.loc[7,'1985':].T, label='IS92c');\n",
    "pl.plot(years, data.loc[9,'1985':].T, label='IS92e');\n",
    "pl.plot(years, data.loc[12,'1985':].T, label='SRES A1FI');\n",
    "pl.plot(years, data.loc[15,'1985':].T, label='SRES B1');\n",
    "pl.plot(years, data.loc[20,'1985':].T, label='RCP8.5');\n",
    "pl.plot(years, data.loc[19,'1985':].T, label='RCP2.6');\n",
    "pl.plot(years, data.loc[25,'1985':].T, label='SSP5-8.5');\n",
    "pl.plot(years, data.loc[21,'1985':].T, label='SSP1-1.9');\n",
    "\n",
    "pl.plot(np.arange(1985, 2024), co2.sum(axis=1).loc[1985:], color='k', label='Global Carbon Project')\n",
    "pl.legend(fontsize=6)\n",
    "pl.xlim(1985, 2050)\n",
    "pl.ylim(0, 25)\n",
    "\n",
    "os.makedirs('../plots', exist_ok=True)\n",
    "pl.savefig('../plots/scenarios.png')"
   ]
  },
  {
   "cell_type": "code",
   "execution_count": null,
   "id": "6",
   "metadata": {},
   "outputs": [],
   "source": []
  }
 ],
 "metadata": {
  "kernelspec": {
   "display_name": "Python 3 (ipykernel)",
   "language": "python",
   "name": "python3"
  },
  "language_info": {
   "codemirror_mode": {
    "name": "ipython",
    "version": 3
   },
   "file_extension": ".py",
   "mimetype": "text/x-python",
   "name": "python",
   "nbconvert_exporter": "python",
   "pygments_lexer": "ipython3",
   "version": "3.11.9"
  }
 },
 "nbformat": 4,
 "nbformat_minor": 5
}
